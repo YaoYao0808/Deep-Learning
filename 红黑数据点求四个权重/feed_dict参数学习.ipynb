{
 "cells": [
  {
   "cell_type": "code",
   "execution_count": 8,
   "metadata": {},
   "outputs": [
    {
     "name": "stdout",
     "output_type": "stream",
     "text": [
      "type(x_data) <class 'numpy.ndarray'>\n",
      "type(y_data) <class 'numpy.ndarray'>\n"
     ]
    }
   ],
   "source": [
    "import os\n",
    "os.environ['TF_CPP_MIN_LOG_LEVEL'] = '2'\n",
    "\n",
    "import tensorflow as tf\n",
    "import numpy as np\n",
    "import matplotlib.pyplot as plt\n",
    "#随机生成数据  后续这部分就是说数据清洗，载入，预处理的部分了，总之是tensorflow可以处理的数据\n",
    "x_data = np.linspace(0.5,0.8,200)[:,np.newaxis]\n",
    "b = np.random.normal(0.,0.02,x_data.shape)\n",
    "y_data = np.square(x_data) + b\n",
    "\n",
    "print(\"type(x_data)\",type(x_data)) # <class 'numpy.ndarray'>\n",
    "print(\"type(y_data)\",type(y_data)) # <class 'numpy.ndarray'>\n",
    "\n",
    "# plt.figure()\n",
    "# plt.scatter(x_data,y_data)\n",
    "# plt.show()\n",
    "#定义tensorflow的输入\n",
    "x = tf.placeholder(tf.float32,[None,1])\n",
    "y = tf.placeholder(tf.float32,[None,1])\n",
    "\n",
    "#定义中间层\n",
    "w_1 = tf.Variable(tf.random_normal([1,10]))\n",
    "b_1 = tf.Variable(tf.zeros([1,10]))\n",
    "L1 = tf.nn.tanh(tf.add(tf.matmul(x,w_1),b_1))\n",
    "#定义输出层\n",
    "w_2 = tf.Variable(tf.random_normal([10,1]))\n",
    "b_2 = tf.Variable(tf.zeros([1,1]))\n",
    "L2 = tf.nn.tanh(tf.add(tf.matmul(L1,w_2),b_2))"
   ]
  },
  {
   "cell_type": "code",
   "execution_count": 9,
   "metadata": {},
   "outputs": [],
   "source": [
    "#定义损失函数\n",
    "loss = tf.reduce_mean(tf.square(y - L2))\n",
    "\n",
    "#定义优化函数\n",
    "train = tf.train.GradientDescentOptimizer(0.1).minimize(loss)\n",
    "\n",
    "init = tf.global_variables_initializer()"
   ]
  },
  {
   "cell_type": "code",
   "execution_count": 10,
   "metadata": {},
   "outputs": [
    {
     "name": "stdout",
     "output_type": "stream",
     "text": [
      "0\n",
      "200\n",
      "400\n",
      "600\n",
      "800\n"
     ]
    }
   ],
   "source": [
    "with tf.Session() as sess:\n",
    "    sess.run(init)\n",
    "    for step in range(1000):\n",
    "        sess.run(train,feed_dict={x:x_data,y:y_data})\n",
    "        if step % 200 == 0:\n",
    "            print(step)"
   ]
  },
  {
   "cell_type": "code",
   "execution_count": null,
   "metadata": {},
   "outputs": [],
   "source": []
  },
  {
   "cell_type": "code",
   "execution_count": null,
   "metadata": {},
   "outputs": [],
   "source": []
  }
 ],
 "metadata": {
  "kernelspec": {
   "display_name": "Python tensorflow",
   "language": "python",
   "name": "tensorflow"
  },
  "language_info": {
   "codemirror_mode": {
    "name": "ipython",
    "version": 3
   },
   "file_extension": ".py",
   "mimetype": "text/x-python",
   "name": "python",
   "nbconvert_exporter": "python",
   "pygments_lexer": "ipython3",
   "version": "3.6.8"
  }
 },
 "nbformat": 4,
 "nbformat_minor": 2
}
