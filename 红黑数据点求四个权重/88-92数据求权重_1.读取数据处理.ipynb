{
 "cells": [
  {
   "cell_type": "code",
   "execution_count": 19,
   "metadata": {},
   "outputs": [],
   "source": [
    "import pandas as pd"
   ]
  },
  {
   "cell_type": "code",
   "execution_count": 24,
   "metadata": {},
   "outputs": [
    {
     "data": {
      "text/plain": [
       "'\\n报错：\\n原因：文件不是 UTF8 编码的，而系统默认采用 UTF8 解码。解决方法是改为对应的解码方式。\\n解决方法：找到csv文件–》右键–》打开方式–》记事本\\n\\n          打开记事本之后，选择头部菜单的“文件–》另存为”，可以看到文件的默认编码格式为ANSI，修改为utf-8即可\\n'"
      ]
     },
     "execution_count": 24,
     "metadata": {},
     "output_type": "execute_result"
    }
   ],
   "source": [
    "data = pd.read_csv('88-92.csv',usecols=['OBJECTID', 'GDP/面积', '路距','熵','湖距'])\n",
    "\"\"\"\n",
    "报错：\n",
    "原因：文件不是 UTF8 编码的，而系统默认采用 UTF8 解码。解决方法是改为对应的解码方式。\n",
    "解决方法：找到csv文件–》右键–》打开方式–》记事本\n",
    "\n",
    "          打开记事本之后，选择头部菜单的“文件–》另存为”，可以看到文件的默认编码格式为ANSI，修改为utf-8即可\n",
    "\"\"\""
   ]
  },
  {
   "cell_type": "code",
   "execution_count": 25,
   "metadata": {},
   "outputs": [
    {
     "data": {
      "text/html": [
       "<div>\n",
       "<style scoped>\n",
       "    .dataframe tbody tr th:only-of-type {\n",
       "        vertical-align: middle;\n",
       "    }\n",
       "\n",
       "    .dataframe tbody tr th {\n",
       "        vertical-align: top;\n",
       "    }\n",
       "\n",
       "    .dataframe thead th {\n",
       "        text-align: right;\n",
       "    }\n",
       "</style>\n",
       "<table border=\"1\" class=\"dataframe\">\n",
       "  <thead>\n",
       "    <tr style=\"text-align: right;\">\n",
       "      <th></th>\n",
       "      <th>OBJECTID</th>\n",
       "      <th>GDP/面积</th>\n",
       "      <th>路距</th>\n",
       "      <th>熵</th>\n",
       "      <th>湖距</th>\n",
       "    </tr>\n",
       "  </thead>\n",
       "  <tbody>\n",
       "    <tr>\n",
       "      <th>0</th>\n",
       "      <td>1</td>\n",
       "      <td>0.990951</td>\n",
       "      <td>0.618756</td>\n",
       "      <td>0.657462</td>\n",
       "      <td>0.665135</td>\n",
       "    </tr>\n",
       "    <tr>\n",
       "      <th>1</th>\n",
       "      <td>2</td>\n",
       "      <td>0.973786</td>\n",
       "      <td>0.811400</td>\n",
       "      <td>0.657462</td>\n",
       "      <td>0.737388</td>\n",
       "    </tr>\n",
       "    <tr>\n",
       "      <th>2</th>\n",
       "      <td>3</td>\n",
       "      <td>0.963077</td>\n",
       "      <td>0.737421</td>\n",
       "      <td>0.657462</td>\n",
       "      <td>0.773321</td>\n",
       "    </tr>\n",
       "    <tr>\n",
       "      <th>3</th>\n",
       "      <td>4</td>\n",
       "      <td>0.980047</td>\n",
       "      <td>0.775631</td>\n",
       "      <td>0.657462</td>\n",
       "      <td>0.768556</td>\n",
       "    </tr>\n",
       "    <tr>\n",
       "      <th>4</th>\n",
       "      <td>5</td>\n",
       "      <td>0.989406</td>\n",
       "      <td>0.719091</td>\n",
       "      <td>0.657462</td>\n",
       "      <td>0.778399</td>\n",
       "    </tr>\n",
       "  </tbody>\n",
       "</table>\n",
       "</div>"
      ],
      "text/plain": [
       "   OBJECTID    GDP/面积        路距         熵        湖距\n",
       "0         1  0.990951  0.618756  0.657462  0.665135\n",
       "1         2  0.973786  0.811400  0.657462  0.737388\n",
       "2         3  0.963077  0.737421  0.657462  0.773321\n",
       "3         4  0.980047  0.775631  0.657462  0.768556\n",
       "4         5  0.989406  0.719091  0.657462  0.778399"
      ]
     },
     "execution_count": 25,
     "metadata": {},
     "output_type": "execute_result"
    }
   ],
   "source": [
    "data.head()"
   ]
  },
  {
   "cell_type": "code",
   "execution_count": 31,
   "metadata": {},
   "outputs": [
    {
     "name": "stdout",
     "output_type": "stream",
     "text": [
      "(235, 5)\n",
      "<class 'pandas.core.frame.DataFrame'>\n",
      "<class 'pandas.core.frame.DataFrame'>\n",
      "RangeIndex: 235 entries, 0 to 234\n",
      "Data columns (total 5 columns):\n",
      "OBJECTID    235 non-null int64\n",
      "GDP/面积      235 non-null float64\n",
      "路距          235 non-null float64\n",
      "熵           235 non-null float64\n",
      "湖距          235 non-null float64\n",
      "dtypes: float64(4), int64(1)\n",
      "memory usage: 9.3 KB\n",
      "None\n"
     ]
    }
   ],
   "source": [
    "print(data.shape) # (235, 5)\n",
    "print(type(data))  # <class 'pandas.core.frame.DataFrame'>\n",
    "print(data.info())"
   ]
  },
  {
   "cell_type": "code",
   "execution_count": null,
   "metadata": {},
   "outputs": [],
   "source": []
  }
 ],
 "metadata": {
  "kernelspec": {
   "display_name": "Python 3",
   "language": "python",
   "name": "python3"
  },
  "language_info": {
   "codemirror_mode": {
    "name": "ipython",
    "version": 3
   },
   "file_extension": ".py",
   "mimetype": "text/x-python",
   "name": "python",
   "nbconvert_exporter": "python",
   "pygments_lexer": "ipython3",
   "version": "3.6.5"
  }
 },
 "nbformat": 4,
 "nbformat_minor": 2
}
